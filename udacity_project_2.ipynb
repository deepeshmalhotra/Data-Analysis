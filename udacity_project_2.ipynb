{
 "cells": [
  {
   "cell_type": "markdown",
   "metadata": {},
   "source": [
    "# Project: Investigating No-show appointments dataset\n",
    "\n",
    "## Table of Contents\n",
    "<ul>\n",
    "<li><a href=\"#intro\">Introduction</a></li>\n",
    "<li><a href=\"#wrangling\">Data Wrangling</a></li>\n",
    "<li><a href=\"#eda\">Exploratory Data Analysis</a></li>\n",
    "<li><a href=\"#conclusions\">Conclusions</a></li>\n",
    "</ul>"
   ]
  },
  {
   "cell_type": "markdown",
   "metadata": {},
   "source": [
    "<a id='intro'></a>\n",
    "## Introduction\n",
    "\n",
    ">This dataset collects information from 100k medical appointments in Brazil and is focused on the question of whether or not patients show up for their appointment.So based on the data of this dataset i have analysed some questions which i'll be answering using this dataset.Below are the questions.\n",
    "\n",
    "##### Questions:\n",
    "> 1. Does location of hospital is affecting the appointments? Are there some locations resulting in more appointments?\n",
    "> 2. Does providing scholarship resulting in more appointments?\n",
    "> 3. Does reminding through sms generating more appoinments ?\n",
    "> 4. Does retired people(age>=66) showing up more for appointments as compared to younger people as they have more time compared      to working generation?\n",
    "> 5. Does people are more conscious towards a particular disease and showing up for more appoinments?\n",
    "> 6. Do female are showing up more as compared to males?\n",
    "> 7. What are the factors by which we can predict if a patient will show up for a scheduled appointment?\n",
    "\n",
    "> Let's start answering them one by one by first importing the dataset."
   ]
  },
  {
   "cell_type": "code",
   "execution_count": 7,
   "metadata": {},
   "outputs": [
    {
     "data": {
      "text/html": [
       "<div>\n",
       "<style scoped>\n",
       "    .dataframe tbody tr th:only-of-type {\n",
       "        vertical-align: middle;\n",
       "    }\n",
       "\n",
       "    .dataframe tbody tr th {\n",
       "        vertical-align: top;\n",
       "    }\n",
       "\n",
       "    .dataframe thead th {\n",
       "        text-align: right;\n",
       "    }\n",
       "</style>\n",
       "<table border=\"1\" class=\"dataframe\">\n",
       "  <thead>\n",
       "    <tr style=\"text-align: right;\">\n",
       "      <th></th>\n",
       "      <th>PatientId</th>\n",
       "      <th>AppointmentID</th>\n",
       "      <th>Gender</th>\n",
       "      <th>ScheduledDay</th>\n",
       "      <th>AppointmentDay</th>\n",
       "      <th>Age</th>\n",
       "      <th>Neighbourhood</th>\n",
       "      <th>Scholarship</th>\n",
       "      <th>Hypertension</th>\n",
       "      <th>Diabetes</th>\n",
       "      <th>Alcoholism</th>\n",
       "      <th>Handcap</th>\n",
       "      <th>SMS_received</th>\n",
       "      <th>No-show</th>\n",
       "    </tr>\n",
       "  </thead>\n",
       "  <tbody>\n",
       "    <tr>\n",
       "      <th>0</th>\n",
       "      <td>2.987250e+13</td>\n",
       "      <td>5642903</td>\n",
       "      <td>F</td>\n",
       "      <td>2016-04-29T18:38:08Z</td>\n",
       "      <td>2016-04-29T00:00:00Z</td>\n",
       "      <td>62</td>\n",
       "      <td>JARDIM DA PENHA</td>\n",
       "      <td>0</td>\n",
       "      <td>1</td>\n",
       "      <td>0</td>\n",
       "      <td>0</td>\n",
       "      <td>0</td>\n",
       "      <td>0</td>\n",
       "      <td>No</td>\n",
       "    </tr>\n",
       "    <tr>\n",
       "      <th>1</th>\n",
       "      <td>5.589980e+14</td>\n",
       "      <td>5642503</td>\n",
       "      <td>M</td>\n",
       "      <td>2016-04-29T16:08:27Z</td>\n",
       "      <td>2016-04-29T00:00:00Z</td>\n",
       "      <td>56</td>\n",
       "      <td>JARDIM DA PENHA</td>\n",
       "      <td>0</td>\n",
       "      <td>0</td>\n",
       "      <td>0</td>\n",
       "      <td>0</td>\n",
       "      <td>0</td>\n",
       "      <td>0</td>\n",
       "      <td>No</td>\n",
       "    </tr>\n",
       "    <tr>\n",
       "      <th>2</th>\n",
       "      <td>4.262960e+12</td>\n",
       "      <td>5642549</td>\n",
       "      <td>F</td>\n",
       "      <td>2016-04-29T16:19:04Z</td>\n",
       "      <td>2016-04-29T00:00:00Z</td>\n",
       "      <td>62</td>\n",
       "      <td>MATA DA PRAIA</td>\n",
       "      <td>0</td>\n",
       "      <td>0</td>\n",
       "      <td>0</td>\n",
       "      <td>0</td>\n",
       "      <td>0</td>\n",
       "      <td>0</td>\n",
       "      <td>No</td>\n",
       "    </tr>\n",
       "    <tr>\n",
       "      <th>3</th>\n",
       "      <td>8.679510e+11</td>\n",
       "      <td>5642828</td>\n",
       "      <td>F</td>\n",
       "      <td>2016-04-29T17:29:31Z</td>\n",
       "      <td>2016-04-29T00:00:00Z</td>\n",
       "      <td>8</td>\n",
       "      <td>PONTAL DE CAMBURI</td>\n",
       "      <td>0</td>\n",
       "      <td>0</td>\n",
       "      <td>0</td>\n",
       "      <td>0</td>\n",
       "      <td>0</td>\n",
       "      <td>0</td>\n",
       "      <td>No</td>\n",
       "    </tr>\n",
       "    <tr>\n",
       "      <th>4</th>\n",
       "      <td>8.841190e+12</td>\n",
       "      <td>5642494</td>\n",
       "      <td>F</td>\n",
       "      <td>2016-04-29T16:07:23Z</td>\n",
       "      <td>2016-04-29T00:00:00Z</td>\n",
       "      <td>56</td>\n",
       "      <td>JARDIM DA PENHA</td>\n",
       "      <td>0</td>\n",
       "      <td>1</td>\n",
       "      <td>1</td>\n",
       "      <td>0</td>\n",
       "      <td>0</td>\n",
       "      <td>0</td>\n",
       "      <td>No</td>\n",
       "    </tr>\n",
       "  </tbody>\n",
       "</table>\n",
       "</div>"
      ],
      "text/plain": [
       "      PatientId  AppointmentID Gender          ScheduledDay  \\\n",
       "0  2.987250e+13        5642903      F  2016-04-29T18:38:08Z   \n",
       "1  5.589980e+14        5642503      M  2016-04-29T16:08:27Z   \n",
       "2  4.262960e+12        5642549      F  2016-04-29T16:19:04Z   \n",
       "3  8.679510e+11        5642828      F  2016-04-29T17:29:31Z   \n",
       "4  8.841190e+12        5642494      F  2016-04-29T16:07:23Z   \n",
       "\n",
       "         AppointmentDay  Age      Neighbourhood  Scholarship  Hypertension  \\\n",
       "0  2016-04-29T00:00:00Z   62    JARDIM DA PENHA            0             1   \n",
       "1  2016-04-29T00:00:00Z   56    JARDIM DA PENHA            0             0   \n",
       "2  2016-04-29T00:00:00Z   62      MATA DA PRAIA            0             0   \n",
       "3  2016-04-29T00:00:00Z    8  PONTAL DE CAMBURI            0             0   \n",
       "4  2016-04-29T00:00:00Z   56    JARDIM DA PENHA            0             1   \n",
       "\n",
       "   Diabetes  Alcoholism  Handcap  SMS_received No-show  \n",
       "0         0           0        0             0      No  \n",
       "1         0           0        0             0      No  \n",
       "2         0           0        0             0      No  \n",
       "3         0           0        0             0      No  \n",
       "4         1           0        0             0      No  "
      ]
     },
     "execution_count": 7,
     "metadata": {},
     "output_type": "execute_result"
    }
   ],
   "source": [
    "import pandas as pd\n",
    "import matplotlib.pyplot as plt\n",
    "import seaborn as sb\n",
    "import numpy as np\n",
    "%matplotlib inline\n",
    "\n",
    "df=pd.read_csv(\"appoinment.csv\")\n",
    "df.head() "
   ]
  },
  {
   "cell_type": "markdown",
   "metadata": {},
   "source": [
    "<a id='wrangling'></a>\n",
    "## Data Wrangling\n",
    "\n"
   ]
  },
  {
   "cell_type": "markdown",
   "metadata": {},
   "source": [
    "#### 1. Checking the datatype and missing entries"
   ]
  },
  {
   "cell_type": "code",
   "execution_count": 49,
   "metadata": {},
   "outputs": [
    {
     "name": "stdout",
     "output_type": "stream",
     "text": [
      "<class 'pandas.core.frame.DataFrame'>\n",
      "RangeIndex: 110527 entries, 0 to 110526\n",
      "Data columns (total 14 columns):\n",
      " #   Column          Non-Null Count   Dtype  \n",
      "---  ------          --------------   -----  \n",
      " 0   PatientId       110527 non-null  float64\n",
      " 1   AppointmentID   110527 non-null  int64  \n",
      " 2   Gender          110527 non-null  object \n",
      " 3   ScheduledDay    110527 non-null  object \n",
      " 4   AppointmentDay  110527 non-null  object \n",
      " 5   Age             110527 non-null  int64  \n",
      " 6   Neighbourhood   110527 non-null  object \n",
      " 7   Scholarship     110527 non-null  int64  \n",
      " 8   Hypertension    110527 non-null  int64  \n",
      " 9   Diabetes        110527 non-null  int64  \n",
      " 10  Alcoholism      110527 non-null  int64  \n",
      " 11  Handcap         110527 non-null  int64  \n",
      " 12  SMS_received    110527 non-null  int64  \n",
      " 13  No-show         110527 non-null  object \n",
      "dtypes: float64(1), int64(8), object(5)\n",
      "memory usage: 11.8+ MB\n"
     ]
    }
   ],
   "source": [
    "df.info()     \n",
    "#So we can see there are 110527 entries and all columns have this much entries so there is no missing data. "
   ]
  },
  {
   "cell_type": "markdown",
   "metadata": {},
   "source": [
    "#### 2. Checking for unique values"
   ]
  },
  {
   "cell_type": "code",
   "execution_count": 9,
   "metadata": {},
   "outputs": [
    {
     "data": {
      "text/plain": [
       "PatientId          61744\n",
       "AppointmentID     110527\n",
       "Gender                 2\n",
       "ScheduledDay      103549\n",
       "AppointmentDay        27\n",
       "Age                  104\n",
       "Neighbourhood         81\n",
       "Scholarship            2\n",
       "Hypertension           2\n",
       "Diabetes               2\n",
       "Alcoholism             2\n",
       "Handcap                5\n",
       "SMS_received           2\n",
       "No-show                2\n",
       "dtype: int64"
      ]
     },
     "execution_count": 9,
     "metadata": {},
     "output_type": "execute_result"
    }
   ],
   "source": [
    "df.nunique()    \n",
    "#Here we can see that patientId has 61744 unique entries means rest of the entries are repeating"
   ]
  },
  {
   "cell_type": "markdown",
   "metadata": {},
   "source": [
    "#### 3. Checking for duplicate values"
   ]
  },
  {
   "cell_type": "code",
   "execution_count": 32,
   "metadata": {},
   "outputs": [
    {
     "data": {
      "text/plain": [
       "48779"
      ]
     },
     "execution_count": 32,
     "metadata": {},
     "output_type": "execute_result"
    }
   ],
   "source": [
    "sum(df['PatientId'].duplicated())\n",
    "\n",
    "#Now as appointmentId are different i'm considering that patientid are same because after visiting the hospital patient\n",
    "#got his/her patientId and when he/she comes back again to visit, the same patientId is used but appointmentId will be diff.\n",
    "# So i'm not deleting the duplicate entries of patientId\n"
   ]
  },
  {
   "cell_type": "markdown",
   "metadata": {},
   "source": [
    "#### 4. Checking unique values of age column"
   ]
  },
  {
   "cell_type": "code",
   "execution_count": 11,
   "metadata": {},
   "outputs": [
    {
     "data": {
      "text/plain": [
       "array([ 62,  56,   8,  76,  23,  39,  21,  19,  30,  29,  22,  28,  54,\n",
       "        15,  50,  40,  46,   4,  13,  65,  45,  51,  32,  12,  61,  38,\n",
       "        79,  18,  63,  64,  85,  59,  55,  71,  49,  78,  31,  58,  27,\n",
       "         6,   2,  11,   7,   0,   3,   1,  69,  68,  60,  67,  36,  10,\n",
       "        35,  20,  26,  34,  33,  16,  42,   5,  47,  17,  41,  44,  37,\n",
       "        24,  66,  77,  81,  70,  53,  75,  73,  52,  74,  43,  89,  57,\n",
       "        14,   9,  48,  83,  72,  25,  80,  87,  88,  84,  82,  90,  94,\n",
       "        86,  91,  98,  92,  96,  93,  95,  97, 102, 115, 100,  99,  -1],\n",
       "      dtype=int64)"
      ]
     },
     "execution_count": 11,
     "metadata": {},
     "output_type": "execute_result"
    }
   ],
   "source": [
    "df.Age.unique() \n",
    "# here we found that age is set -1 in some column which is not possible so have to see how many times it appear"
   ]
  },
  {
   "cell_type": "code",
   "execution_count": 4,
   "metadata": {},
   "outputs": [
    {
     "data": {
      "text/plain": [
       "array([[<matplotlib.axes._subplots.AxesSubplot object at 0x00000199F14A43C8>,\n",
       "        <matplotlib.axes._subplots.AxesSubplot object at 0x00000199F1908E48>,\n",
       "        <matplotlib.axes._subplots.AxesSubplot object at 0x00000199F192D508>],\n",
       "       [<matplotlib.axes._subplots.AxesSubplot object at 0x00000199F1964F08>,\n",
       "        <matplotlib.axes._subplots.AxesSubplot object at 0x00000199F199F908>,\n",
       "        <matplotlib.axes._subplots.AxesSubplot object at 0x00000199F19DEE88>],\n",
       "       [<matplotlib.axes._subplots.AxesSubplot object at 0x00000199F1A0F7C8>,\n",
       "        <matplotlib.axes._subplots.AxesSubplot object at 0x00000199F1A48908>,\n",
       "        <matplotlib.axes._subplots.AxesSubplot object at 0x00000199F1A544C8>]],\n",
       "      dtype=object)"
      ]
     },
     "execution_count": 4,
     "metadata": {},
     "output_type": "execute_result"
    },
    {
     "data": {
      "image/png": "[encoded data removed]",
      "text/plain": [
       "<Figure size 576x576 with 9 Axes>"
      ]
     },
     "metadata": {
      "needs_background": "light"
     },
     "output_type": "display_data"
    }
   ],
   "source": [
    "df.hist(figsize=(8,8))"
   ]
  },
  {
   "cell_type": "markdown",
   "metadata": {},
   "source": [
    "> 1. From the **age** histogram we can see that most of the patients are young.\n",
    "> 2. From the **alcoholism** histogram we can see that they are many few cases of alcoholism in Brazil, that's really gud. "
   ]
  },
  {
   "cell_type": "markdown",
   "metadata": {},
   "source": [
    "## Data Cleaning\n",
    "\n",
    "> **After wrangling the data let's clean the invalid data. Below are the actions i'm going to take in this section**\n",
    "> 1. I'm leaving the patientId column as it is\n",
    "> 2. Cleaning the age column\n",
    "> 3. Leaving rest of the columns unchanged as they all have relevant information."
   ]
  },
  {
   "cell_type": "code",
   "execution_count": 5,
   "metadata": {},
   "outputs": [
    {
     "data": {
      "text/plain": [
       "0      3539\n",
       "1      2273\n",
       "52     1746\n",
       "49     1652\n",
       "53     1651\n",
       "       ... \n",
       "98        6\n",
       "115       5\n",
       "100       4\n",
       "102       2\n",
       "99        1\n",
       "Name: Age, Length: 103, dtype: int64"
      ]
     },
     "execution_count": 5,
     "metadata": {},
     "output_type": "execute_result"
    }
   ],
   "source": [
    "df['Age'].value_counts() # Found that there is only column with age set to -1 so droping that column\n",
    "df[df['Age']==-1]        # Row nuber 99832 contains that wrong age input\n",
    "\n",
    "df.drop(df.index[99832],axis=0,inplace=True)     #dropped the rows with age =-1\n",
    "df.shape                                         #checking the dimensions again\n",
    "df['Age'].value_counts()                         #checking again it is removed, and yes it is removed"
   ]
  },
  {
   "cell_type": "markdown",
   "metadata": {},
   "source": [
    "##### We have also seen above that age=0 but i'm assuming it as this data is of patients and age=0 might be for infants who are less than 1 year old so leaving the data as it is.\n",
    "\n"
   ]
  },
  {
   "cell_type": "markdown",
   "metadata": {},
   "source": [
    "<a id='eda'></a>\n",
    "## Exploratory Data Analysis\n",
    "\n",
    ">Now as we have prepared our questions , wrangle the data and also cleaned it so let's now try to answer the question one by one using summary statistics and visualization .\n",
    "\n",
    "### Q1. Does location of hospital is affecting the appointments? Are there some locations resulting in more appointments?"
   ]
  },
  {
   "cell_type": "markdown",
   "metadata": {},
   "source": [
    ">**Ans**. To answer this let's first calculate the total number of show ups from each location"
   ]
  },
  {
   "cell_type": "code",
   "execution_count": 43,
   "metadata": {},
   "outputs": [
    {
     "data": {
      "text/plain": [
       "Neighbourhood\n",
       "AEROPORTO                 8\n",
       "ANDORINHAS             2262\n",
       "ANTÔNIO HONÓRIO         271\n",
       "ARIOVALDO FAVALESSA     282\n",
       "BARRO VERMELHO          423\n",
       "                       ... \n",
       "SÃO JOSÉ               1977\n",
       "SÃO PEDRO              2448\n",
       "TABUAZEIRO             3132\n",
       "UNIVERSITÁRIO           152\n",
       "VILA RUBIM              851\n",
       "Name: Age, Length: 81, dtype: int64"
      ]
     },
     "execution_count": 43,
     "metadata": {},
     "output_type": "execute_result"
    }
   ],
   "source": [
    "appointment=df.groupby('Neighbourhood').count()['Age']\n",
    "appointment\n",
    "\n",
    "# We got number of appointments from each location"
   ]
  },
  {
   "cell_type": "code",
   "execution_count": 46,
   "metadata": {},
   "outputs": [
    {
     "data": {
      "text/plain": [
       "Neighbourhood\n",
       "AEROPORTO                 7\n",
       "ANDORINHAS             1741\n",
       "ANTÔNIO HONÓRIO         221\n",
       "ARIOVALDO FAVALESSA     220\n",
       "BARRO VERMELHO          332\n",
       "                       ... \n",
       "SÃO JOSÉ               1549\n",
       "SÃO PEDRO              1933\n",
       "TABUAZEIRO             2559\n",
       "UNIVERSITÁRIO           120\n",
       "VILA RUBIM              710\n",
       "Name: Age, Length: 80, dtype: int64"
      ]
     },
     "execution_count": 46,
     "metadata": {},
     "output_type": "execute_result"
    }
   ],
   "source": [
    "# We divide the dataset to obtain the number of show ups from each location.\n",
    "\n",
    "show_up=df.groupby(['No-show','Neighbourhood']).count()['Age']\n",
    "show_up['No']            # No means showing up for appointment"
   ]
  },
  {
   "cell_type": "code",
   "execution_count": 61,
   "metadata": {},
   "outputs": [
    {
     "data": {
      "text/plain": [
       "80.45018679653623"
      ]
     },
     "execution_count": 61,
     "metadata": {},
     "output_type": "execute_result"
    }
   ],
   "source": [
    "# now we divide the no.of show ups with total no. of appointments to get the proportion.\n",
    "\n",
    "prop=show_up['No']/appointment\n",
    "prop_per=prop*100                 #multiplying it with 100 to get it in %age.\n",
    "prop_per.mean()"
   ]
  },
  {
   "cell_type": "code",
   "execution_count": 59,
   "metadata": {},
   "outputs": [
    {
     "data": {
      "text/plain": [
       "<matplotlib.axes._subplots.AxesSubplot at 0x1a2f58c7648>"
      ]
     },
     "execution_count": 59,
     "metadata": {},
     "output_type": "execute_result"
    },
    {
     "data": {
      "image/png": "[encoded data removed]",
      "text/plain": [
       "<Figure size 1584x432 with 1 Axes>"
      ]
     },
     "metadata": {
      "needs_background": "light"
     },
     "output_type": "display_data"
    }
   ],
   "source": [
    "prop_per.plot(kind='bar',figsize=(22,6))"
   ]
  },
  {
   "cell_type": "markdown",
   "metadata": {},
   "source": [
    "### Q2. Does providing scholarship resulting in more appointments?"
   ]
  },
  {
   "cell_type": "code",
   "execution_count": 3,
   "metadata": {},
   "outputs": [
    {
     "data": {
      "text/plain": [
       "Scholarship\n",
       "0    99666\n",
       "1    10861\n",
       "Name: Age, dtype: int64"
      ]
     },
     "execution_count": 3,
     "metadata": {},
     "output_type": "execute_result"
    }
   ],
   "source": [
    "# First let's count how many students got scholarship\n",
    "# Assuming 0 means didn't get and 1 means get.\n",
    "\n",
    "total=df.groupby('Scholarship').count()['Age']\n",
    "total"
   ]
  },
  {
   "cell_type": "code",
   "execution_count": 4,
   "metadata": {},
   "outputs": [
    {
     "data": {
      "text/plain": [
       "No-show  Scholarship\n",
       "No       0              79925\n",
       "         1               8283\n",
       "Yes      0              19741\n",
       "         1               2578\n",
       "Name: Age, dtype: int64"
      ]
     },
     "execution_count": 4,
     "metadata": {},
     "output_type": "execute_result"
    }
   ],
   "source": [
    "#Here we are finding patients who got scholarship and show up for the appointment.\n",
    "\n",
    "scholar=df.groupby(['No-show','Scholarship']).count()['Age']\n",
    "scholar"
   ]
  },
  {
   "cell_type": "code",
   "execution_count": 5,
   "metadata": {},
   "outputs": [
    {
     "data": {
      "text/plain": [
       "80.19284409929163"
      ]
     },
     "execution_count": 5,
     "metadata": {},
     "output_type": "execute_result"
    }
   ],
   "source": [
    "# Finding %age of patients who got scholarship and show up for appointment.\n",
    "prop_sch=scholar['No'][1]/total[1]\n",
    "prop_sch_per=prop_sch*100\n",
    "prop_sch_per\n",
    "\n",
    "# Finding %age of patients who didn't get scholarship still appear for appointment.\n",
    "prop_schnot=scholar['No'][0]/total[0]\n",
    "prop_schnot_per=prop_schnot*100\n",
    "prop_schnot_per"
   ]
  },
  {
   "cell_type": "code",
   "execution_count": 12,
   "metadata": {},
   "outputs": [
    {
     "data": {
      "text/plain": [
       "Text(0.5, 0, 'Scholarship')"
      ]
     },
     "execution_count": 12,
     "metadata": {},
     "output_type": "execute_result"
    },
    {
     "data": {
      "image/png": "[encoded data removed]",
      "text/plain": [
       "<Figure size 432x288 with 1 Axes>"
      ]
     },
     "metadata": {
      "needs_background": "light"
     },
     "output_type": "display_data"
    }
   ],
   "source": [
    "# Visualizing the result through clustered bar garph\n",
    "sb.countplot(data=df, x='Scholarship', hue='No-show')\n",
    "plt.ylabel('Number of patients')\n",
    "plt.xlabel('Scholarship')"
   ]
  },
  {
   "cell_type": "markdown",
   "metadata": {},
   "source": [
    "### Q3. Does reminding through sms generating more appoinments ?"
   ]
  },
  {
   "cell_type": "code",
   "execution_count": 18,
   "metadata": {},
   "outputs": [
    {
     "data": {
      "text/plain": [
       "SMS_received  No-show\n",
       "0             No         62510\n",
       "              Yes        12535\n",
       "1             No         25698\n",
       "              Yes         9784\n",
       "Name: Age, dtype: int64"
      ]
     },
     "execution_count": 18,
     "metadata": {},
     "output_type": "execute_result"
    }
   ],
   "source": [
    "# Grouping the the no of patients who got sms and who didn't get sms\n",
    "sms_status=df.groupby(['SMS_received','No-show']).count()['Age']\n",
    "sms_status"
   ]
  },
  {
   "cell_type": "code",
   "execution_count": 19,
   "metadata": {},
   "outputs": [],
   "source": [
    "# COunting the total no of patients who get and didn't get sms\n",
    "total_ysms=sms_status[1]['No'] + sms_status[1]['Yes']\n",
    "total_nsms=sms_status[0]['No'] + sms_status[0]['Yes']"
   ]
  },
  {
   "cell_type": "code",
   "execution_count": 20,
   "metadata": {},
   "outputs": [],
   "source": [
    "# Calculating the no of %age\n",
    "prop_ysms=sms_status[1]['No']/total_ysms\n",
    "prop_ysms_per=prop_ysms*100\n",
    "\n",
    "prop_nsms=sms_status[0]['No']/total_nsms\n",
    "prop_nsms_per=prop_nsms*100"
   ]
  },
  {
   "cell_type": "code",
   "execution_count": 14,
   "metadata": {},
   "outputs": [],
   "source": [
    "# Visualizing the result through heatmap\n",
    "ct_counts= df.groupby(['SMS_received','No-show']).size()\n",
    "ct_counts = ct_counts.reset_index(name='count')\n",
    "ct_counts = ct_counts.pivot(index = 'No-show', columns = 'SMS_received', values = 'count')\n"
   ]
  },
  {
   "cell_type": "code",
   "execution_count": 15,
   "metadata": {},
   "outputs": [
    {
     "data": {
      "text/plain": [
       "<matplotlib.axes._subplots.AxesSubplot at 0x17403799308>"
      ]
     },
     "execution_count": 15,
     "metadata": {},
     "output_type": "execute_result"
    },
    {
     "data": {
      "image/png": "[encoded data removed]",
      "text/plain": [
       "<Figure size 432x288 with 2 Axes>"
      ]
     },
     "metadata": {
      "needs_background": "light"
     },
     "output_type": "display_data"
    }
   ],
   "source": [
    "sb.heatmap(ct_counts)"
   ]
  },
  {
   "cell_type": "markdown",
   "metadata": {},
   "source": [
    "### Q4. Does retired people(age>=66) showing up more for appointments as compared to younger people as they have more time compared to working generation?"
   ]
  },
  {
   "cell_type": "code",
   "execution_count": 110,
   "metadata": {},
   "outputs": [
    {
     "data": {
      "text/plain": [
       "13301"
      ]
     },
     "execution_count": 110,
     "metadata": {},
     "output_type": "execute_result"
    }
   ],
   "source": [
    "# First let's differentiate the people \n",
    "\n",
    "retired_pat=df.query('Age >= 66')\n",
    "young_pat=df.query('Age < 66')"
   ]
  },
  {
   "cell_type": "code",
   "execution_count": 146,
   "metadata": {},
   "outputs": [],
   "source": [
    "# counting the total no of show ups for each category of people\n",
    "\n",
    "show_ret=retired_pat.groupby('No-show').count()['Age']\n",
    "show_young=young_pat.groupby('No-show').count()['Age']"
   ]
  },
  {
   "cell_type": "code",
   "execution_count": 147,
   "metadata": {},
   "outputs": [],
   "source": [
    "# Calculating the proportion for each category\n",
    "\n",
    "prop_ret=show_ret['No']/retired_pat.count()['Age']\n",
    "prop_ret_per=prop_ret*100\n",
    "\n",
    "prop_young=show_young['No']/young_pat.count()['Age']\n",
    "prop_young_per=prop_young*100"
   ]
  },
  {
   "cell_type": "code",
   "execution_count": 148,
   "metadata": {},
   "outputs": [
    {
     "data": {
      "text/plain": [
       "Text(0.5, 0, 'Retired People Vs Young people')"
      ]
     },
     "execution_count": 148,
     "metadata": {},
     "output_type": "execute_result"
    },
    {
     "data": {
      "image/png": "[encoded data removed]",
      "text/plain": [
       "<Figure size 432x288 with 1 Axes>"
      ]
     },
     "metadata": {
      "needs_background": "light"
     },
     "output_type": "display_data"
    }
   ],
   "source": [
    "# Visualizing it through bar chart\n",
    "\n",
    "locations=[1,2]\n",
    "heights=[prop_ret_per,prop_young_per]\n",
    "labels=['Retired people showing up','Young people showing up']\n",
    "plt.scatter(locations,heights,color='g',tick_label=labels)\n",
    "plt.ylabel('Proportion of patients')\n",
    "plt.xlabel('Retired People Vs Young people')"
   ]
  },
  {
   "cell_type": "markdown",
   "metadata": {},
   "source": [
    "### Q5. Do female are showing up more as compared to males?"
   ]
  },
  {
   "cell_type": "code",
   "execution_count": 54,
   "metadata": {},
   "outputs": [],
   "source": [
    "df_f=df.query('Gender == \"F\"')\n",
    "df_m=df.query('Gender == \"M\"')"
   ]
  },
  {
   "cell_type": "code",
   "execution_count": 87,
   "metadata": {},
   "outputs": [
    {
     "data": {
      "text/plain": [
       "72.23369969424014"
      ]
     },
     "execution_count": 87,
     "metadata": {},
     "output_type": "execute_result"
    }
   ],
   "source": [
    "sms_f=df_f.groupby('SMS_received').count()['Age']\n",
    "total_f=sms_f[1]\n",
    "\n",
    "f=df_f.groupby(['SMS_received','No-show']).count()['Age']\n",
    "\n",
    "prop_f=f[1]['No']/total_f\n",
    "prop_f_per=prop_f*100\n",
    "prop_f_per"
   ]
  },
  {
   "cell_type": "code",
   "execution_count": 124,
   "metadata": {},
   "outputs": [
    {
     "data": {
      "text/plain": [
       "72.83687943262412"
      ]
     },
     "execution_count": 124,
     "metadata": {},
     "output_type": "execute_result"
    }
   ],
   "source": [
    "sms_m=df_m.groupby('SMS_received').count()['Age']\n",
    "total_m=sms_m[1]\n",
    "\n",
    "m=df_m.groupby(['SMS_received','No-show']).count()['Age']\n",
    "\n",
    "prop_m=m[1]['No']/total_m\n",
    "prop_m_per=prop_m*100\n",
    "prop_m_per"
   ]
  },
  {
   "cell_type": "code",
   "execution_count": 98,
   "metadata": {},
   "outputs": [
    {
     "data": {
      "text/plain": [
       "76.2114537444934"
      ]
     },
     "execution_count": 98,
     "metadata": {},
     "output_type": "execute_result"
    }
   ],
   "source": [
    "sch_f=df_f.groupby('Scholarship').count()['Age']\n",
    "total_sch_f=sch_f[1]\n",
    "\n",
    "f_sch=df_f.groupby(['Scholarship','No-show']).count()['Age']\n",
    "\n",
    "prop_sch_f=f_sch[1]['No']/total_sch_f\n",
    "per_f=prop_sch_f*100"
   ]
  },
  {
   "cell_type": "code",
   "execution_count": 123,
   "metadata": {},
   "outputs": [
    {
     "data": {
      "text/plain": [
       "76.49402390438247"
      ]
     },
     "execution_count": 123,
     "metadata": {},
     "output_type": "execute_result"
    }
   ],
   "source": [
    "sch_m=df_m.groupby('Scholarship').count()['Age']\n",
    "total_sch_m=sch_m[1]\n",
    "\n",
    "m_sch=df_m.groupby(['Scholarship','No-show']).count()['Age']\n",
    "\n",
    "prop_sch_m=m_sch[1]['No']/total_sch_m\n",
    "per_m=prop_sch_m*100\n",
    "per_m"
   ]
  },
  {
   "cell_type": "code",
   "execution_count": 128,
   "metadata": {},
   "outputs": [
    {
     "data": {
      "image/png": "[encoded data removed]",
      "text/plain": [
       "<Figure size 432x288 with 1 Axes>"
      ]
     },
     "metadata": {
      "needs_background": "light"
     },
     "output_type": "display_data"
    }
   ],
   "source": [
    "location_f=[1,2]\n",
    "location_m=[1.3,2.3]\n",
    "height_f=[prop_f_per,per_f]\n",
    "height_m=[prop_m_per,per_m]\n",
    "labels=['Sms-status','Scholarship']\n",
    "plt.bar(location_f,height_f,color='g',width=.4,alpha=.7,label='Female')\n",
    "plt.bar(location_m,height_m,color='r',width=.4,alpha=.7,label='M')\n",
    "plt.ylabel('Proportion')\n",
    "plt.xlabel('Male Vs Female')\n",
    "plt.xticks(location,labels)\n",
    "plt.legend()\n",
    "plt.show()"
   ]
  },
  {
   "cell_type": "markdown",
   "metadata": {},
   "source": [
    "### Q6.Does people are more conscious towards a particular disease and showing up for more appoinments?"
   ]
  },
  {
   "cell_type": "code",
   "execution_count": 130,
   "metadata": {},
   "outputs": [],
   "source": [
    "dia=df.groupby(['No-show','Diabetes']).count()['Age']\n",
    "total=dia['No'][1] + dia['Yes'][1]\n",
    "came=dia['No'][1]"
   ]
  },
  {
   "cell_type": "code",
   "execution_count": 131,
   "metadata": {},
   "outputs": [
    {
     "data": {
      "text/plain": [
       "81.99672667757774"
      ]
     },
     "execution_count": 131,
     "metadata": {},
     "output_type": "execute_result"
    }
   ],
   "source": [
    "prop_dia=came/total\n",
    "prop_dia_per=prop_dia*100\n",
    "prop_dia_per"
   ]
  },
  {
   "cell_type": "code",
   "execution_count": 132,
   "metadata": {},
   "outputs": [],
   "source": [
    "hyper=df.groupby(['No-show','Hypertension']).count()['Age']\n",
    "total_hyper=hyper['No'][1] + hyper['Yes'][1]\n",
    "came_hyper=hyper['No'][1]"
   ]
  },
  {
   "cell_type": "code",
   "execution_count": 133,
   "metadata": {},
   "outputs": [
    {
     "data": {
      "text/plain": [
       "82.69804137424889"
      ]
     },
     "execution_count": 133,
     "metadata": {},
     "output_type": "execute_result"
    }
   ],
   "source": [
    "prop_hyper=came_hyper/total_hyper\n",
    "prop_hyper_per=prop_hyper*100\n",
    "prop_hyper_per"
   ]
  },
  {
   "cell_type": "code",
   "execution_count": 134,
   "metadata": {},
   "outputs": [],
   "source": [
    "alcohol=df.groupby(['No-show','Alcoholism']).count()['Age']\n",
    "total_alcohol=alcohol['No'][1] + alcohol['Yes'][1]\n",
    "came_alcohol=alcohol['No'][1]"
   ]
  },
  {
   "cell_type": "code",
   "execution_count": 135,
   "metadata": {},
   "outputs": [
    {
     "data": {
      "text/plain": [
       "79.85119047619048"
      ]
     },
     "execution_count": 135,
     "metadata": {},
     "output_type": "execute_result"
    }
   ],
   "source": [
    "prop_alcohol=came_alcohol/total_alcohol\n",
    "prop_alcohol_per=prop_alcohol*100\n",
    "prop_alcohol_per"
   ]
  },
  {
   "cell_type": "code",
   "execution_count": 136,
   "metadata": {},
   "outputs": [],
   "source": [
    "handcap=df.groupby(['No-show','Handcap']).count()['Age']\n",
    "total_handcap=handcap['No'][1] + handcap['No'][2] + handcap['No'][3] + handcap['No'][4] + handcap['Yes'][1] + handcap['Yes'][2] + handcap['Yes'][3] + handcap['Yes'][4]\n",
    "handcap_came=handcap['No'][1] + handcap['No'][2] + handcap['No'][3] + handcap['No'][4]"
   ]
  },
  {
   "cell_type": "code",
   "execution_count": 137,
   "metadata": {},
   "outputs": [
    {
     "data": {
      "text/plain": [
       "81.83846497099509"
      ]
     },
     "execution_count": 137,
     "metadata": {},
     "output_type": "execute_result"
    }
   ],
   "source": [
    "prop_handcap=handcap_came/total_handcap\n",
    "prop_handcap_per=prop_handcap*100\n",
    "prop_handcap_per"
   ]
  },
  {
   "cell_type": "code",
   "execution_count": 141,
   "metadata": {},
   "outputs": [
    {
     "data": {
      "text/plain": [
       "Text(0.5, 0, 'Various Diseases')"
      ]
     },
     "execution_count": 141,
     "metadata": {},
     "output_type": "execute_result"
    },
    {
     "data": {
      "image/png": "[encoded data removed]",
      "text/plain": [
       "<Figure size 432x288 with 1 Axes>"
      ]
     },
     "metadata": {
      "needs_background": "light"
     },
     "output_type": "display_data"
    }
   ],
   "source": [
    "locations=[1,2,3,4]\n",
    "heights=[prop_dia_per,prop_hyper_per,prop_alcohol_per,prop_handcap_per]\n",
    "labels=['Diabetes','Hypertension','Alcoholism','Handcap']\n",
    "plt.bar(locations,heights,color='r',tick_label=labels)\n",
    "plt.ylabel('Proportion of Patients')\n",
    "plt.xlabel('Various Diseases')"
   ]
  },
  {
   "cell_type": "markdown",
   "metadata": {},
   "source": [
    "### Q6.What are the factors by which we can predict if a patient will show up for a scheduled appointment?"
   ]
  },
  {
   "cell_type": "markdown",
   "metadata": {},
   "source": [
    "> As we see that **location ,reminding through sms,scholarships** doesn't matter when the people are conscious about their health they will definitely show up for their appointment.So according to my analysis of this data there are no such particulars parameters by which we can predict.However as we see that participation of retired people is more so we can do something for them that will benefit them and increase their participation."
   ]
  },
  {
   "cell_type": "markdown",
   "metadata": {},
   "source": [
    "<a id='conclusions'></a>\n",
    "## Conclusions\n",
    "\n",
    "> **Finding 1:** From the above bar graph of **Q1** we see that location does not matter at all in showing up for appointments. As we can see that the mean of all proportions is 80.45 i.e if a patient books an appointment then there is 80% chance that he/she will show up or we can say that 8 out of every 10 patients show up for the booked appointments irrespective of the location of hospital.However *Parque Industrial* location shows that 10 out of every 10 patients show up for the appointments.\n",
    "\n",
    ">**Finding 2:** After seeing the above graph of **Q2** 76 patients out of every 100 patients who got scholarship show up for the appointment and *surprisingly* 80 patients out of every 100 patients who didn't get scholarship show up for the appointment.Thus we can say that scholarship dosen't really matter when it comes to the health of a person.\n",
    "\n",
    "> **Finding 3:** So another shocking insight from the graph of **Q3**, it was expected that reminding through sms may generate more appointment visits but here opposite is happening. Percentage of patients who didn't get sms, showing up for more appointments as compared to the pateints who got sms.Thus when a person is conscious about himself/herself health he/she don't require reminders.\n",
    "\n",
    ">**Finding 4:** This is what we expect from the graph of **Q4** as retired people have more time so it was expected that they will be more in number as compared to working generation whose greatest wealth is time and bar chart tells the same story.\n",
    "\n",
    ">**Finding 5:** Through the graph of **Q5** we can say that all diseases meant equally to the patients and they don't take any of the disease lightly however there is a slight increase in the hypertension showing up %age thus we can conclude all the types of diseases mentioned in the dataset meant equally to the patients.\n",
    "\n",
    "\n",
    ">**Conclusion:** As we see that **location ,reminding through sms,scholarships** doesn't matter when the people are conscious about their health they will definitely show up for their appointment.So according to my analysis of this data there are no such particulars parameters by which we can predict.However as we see that participation of retired people is more so we can do something for them that will benefit them and further increase their participation.\n",
    "\n",
    ">**Limitation:** From the conclusion we conclude that location, reminding through sms, scholarships are not showing much differences due to this they have very less effect on number of patients showing up for appointments.Maybe data is not accurate that is why there are no such differences so this is the limitation that i didn't find any good differences between them."
   ]
  },
  {
   "cell_type": "code",
   "execution_count": null,
   "metadata": {},
   "outputs": [],
   "source": []
  }
 ],
 "metadata": {
  "kernelspec": {
   "display_name": "Python 3",
   "language": "python",
   "name": "python3"
  },
  "language_info": {
   "codemirror_mode": {
    "name": "ipython",
    "version": 3
   },
   "file_extension": ".py",
   "mimetype": "text/x-python",
   "name": "python",
   "nbconvert_exporter": "python",
   "pygments_lexer": "ipython3",
   "version": "3.7.6"
  }
 },
 "nbformat": 4,
 "nbformat_minor": 2
}
